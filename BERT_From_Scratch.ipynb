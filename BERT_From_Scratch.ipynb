{
  "nbformat": 4,
  "nbformat_minor": 0,
  "metadata": {
    "colab": {
      "provenance": [],
      "gpuType": "T4"
    },
    "kernelspec": {
      "name": "python3",
      "display_name": "Python 3"
    },
    "language_info": {
      "name": "python"
    },
    "accelerator": "GPU",
    "widgets": {
      "application/vnd.jupyter.widget-state+json": {
        "55dae7413be94ac3bd997c21a317b9b4": {
          "model_module": "@jupyter-widgets/controls",
          "model_name": "HBoxModel",
          "model_module_version": "1.5.0",
          "state": {
            "_dom_classes": [],
            "_model_module": "@jupyter-widgets/controls",
            "_model_module_version": "1.5.0",
            "_model_name": "HBoxModel",
            "_view_count": null,
            "_view_module": "@jupyter-widgets/controls",
            "_view_module_version": "1.5.0",
            "_view_name": "HBoxView",
            "box_style": "",
            "children": [
              "IPY_MODEL_a0dcbbac15874073811d152ff8453ef0",
              "IPY_MODEL_44747ed4512c49c59509461930657074",
              "IPY_MODEL_e2bf6de8590945dd9efc45806af8a033"
            ],
            "layout": "IPY_MODEL_1c68ace2e60a4674be726891466b0e5e"
          }
        },
        "a0dcbbac15874073811d152ff8453ef0": {
          "model_module": "@jupyter-widgets/controls",
          "model_name": "HTMLModel",
          "model_module_version": "1.5.0",
          "state": {
            "_dom_classes": [],
            "_model_module": "@jupyter-widgets/controls",
            "_model_module_version": "1.5.0",
            "_model_name": "HTMLModel",
            "_view_count": null,
            "_view_module": "@jupyter-widgets/controls",
            "_view_module_version": "1.5.0",
            "_view_name": "HTMLView",
            "description": "",
            "description_tooltip": null,
            "layout": "IPY_MODEL_17f0d5ce275a430bbeb5e9f568801b3a",
            "placeholder": "​",
            "style": "IPY_MODEL_1c1724f8f2ea41818ca59c80e271871b",
            "value": "Running tokenizer on dataset line_by_line (num_proc=4): 100%"
          }
        },
        "44747ed4512c49c59509461930657074": {
          "model_module": "@jupyter-widgets/controls",
          "model_name": "FloatProgressModel",
          "model_module_version": "1.5.0",
          "state": {
            "_dom_classes": [],
            "_model_module": "@jupyter-widgets/controls",
            "_model_module_version": "1.5.0",
            "_model_name": "FloatProgressModel",
            "_view_count": null,
            "_view_module": "@jupyter-widgets/controls",
            "_view_module_version": "1.5.0",
            "_view_name": "ProgressView",
            "bar_style": "success",
            "description": "",
            "description_tooltip": null,
            "layout": "IPY_MODEL_4fa9d42deb224d0cb710f881a1afe0d6",
            "max": 10000,
            "min": 0,
            "orientation": "horizontal",
            "style": "IPY_MODEL_3e048c376ede4523a11d32c7e3104a10",
            "value": 10000
          }
        },
        "e2bf6de8590945dd9efc45806af8a033": {
          "model_module": "@jupyter-widgets/controls",
          "model_name": "HTMLModel",
          "model_module_version": "1.5.0",
          "state": {
            "_dom_classes": [],
            "_model_module": "@jupyter-widgets/controls",
            "_model_module_version": "1.5.0",
            "_model_name": "HTMLModel",
            "_view_count": null,
            "_view_module": "@jupyter-widgets/controls",
            "_view_module_version": "1.5.0",
            "_view_name": "HTMLView",
            "description": "",
            "description_tooltip": null,
            "layout": "IPY_MODEL_f19226101c9d464dbbe3674959ad7743",
            "placeholder": "​",
            "style": "IPY_MODEL_1b41f9d77d614907a01c7155d98d88d4",
            "value": " 10000/10000 [00:05&lt;00:00, 2510.33 examples/s]"
          }
        },
        "1c68ace2e60a4674be726891466b0e5e": {
          "model_module": "@jupyter-widgets/base",
          "model_name": "LayoutModel",
          "model_module_version": "1.2.0",
          "state": {
            "_model_module": "@jupyter-widgets/base",
            "_model_module_version": "1.2.0",
            "_model_name": "LayoutModel",
            "_view_count": null,
            "_view_module": "@jupyter-widgets/base",
            "_view_module_version": "1.2.0",
            "_view_name": "LayoutView",
            "align_content": null,
            "align_items": null,
            "align_self": null,
            "border": null,
            "bottom": null,
            "display": null,
            "flex": null,
            "flex_flow": null,
            "grid_area": null,
            "grid_auto_columns": null,
            "grid_auto_flow": null,
            "grid_auto_rows": null,
            "grid_column": null,
            "grid_gap": null,
            "grid_row": null,
            "grid_template_areas": null,
            "grid_template_columns": null,
            "grid_template_rows": null,
            "height": null,
            "justify_content": null,
            "justify_items": null,
            "left": null,
            "margin": null,
            "max_height": null,
            "max_width": null,
            "min_height": null,
            "min_width": null,
            "object_fit": null,
            "object_position": null,
            "order": null,
            "overflow": null,
            "overflow_x": null,
            "overflow_y": null,
            "padding": null,
            "right": null,
            "top": null,
            "visibility": null,
            "width": null
          }
        },
        "17f0d5ce275a430bbeb5e9f568801b3a": {
          "model_module": "@jupyter-widgets/base",
          "model_name": "LayoutModel",
          "model_module_version": "1.2.0",
          "state": {
            "_model_module": "@jupyter-widgets/base",
            "_model_module_version": "1.2.0",
            "_model_name": "LayoutModel",
            "_view_count": null,
            "_view_module": "@jupyter-widgets/base",
            "_view_module_version": "1.2.0",
            "_view_name": "LayoutView",
            "align_content": null,
            "align_items": null,
            "align_self": null,
            "border": null,
            "bottom": null,
            "display": null,
            "flex": null,
            "flex_flow": null,
            "grid_area": null,
            "grid_auto_columns": null,
            "grid_auto_flow": null,
            "grid_auto_rows": null,
            "grid_column": null,
            "grid_gap": null,
            "grid_row": null,
            "grid_template_areas": null,
            "grid_template_columns": null,
            "grid_template_rows": null,
            "height": null,
            "justify_content": null,
            "justify_items": null,
            "left": null,
            "margin": null,
            "max_height": null,
            "max_width": null,
            "min_height": null,
            "min_width": null,
            "object_fit": null,
            "object_position": null,
            "order": null,
            "overflow": null,
            "overflow_x": null,
            "overflow_y": null,
            "padding": null,
            "right": null,
            "top": null,
            "visibility": null,
            "width": null
          }
        },
        "1c1724f8f2ea41818ca59c80e271871b": {
          "model_module": "@jupyter-widgets/controls",
          "model_name": "DescriptionStyleModel",
          "model_module_version": "1.5.0",
          "state": {
            "_model_module": "@jupyter-widgets/controls",
            "_model_module_version": "1.5.0",
            "_model_name": "DescriptionStyleModel",
            "_view_count": null,
            "_view_module": "@jupyter-widgets/base",
            "_view_module_version": "1.2.0",
            "_view_name": "StyleView",
            "description_width": ""
          }
        },
        "4fa9d42deb224d0cb710f881a1afe0d6": {
          "model_module": "@jupyter-widgets/base",
          "model_name": "LayoutModel",
          "model_module_version": "1.2.0",
          "state": {
            "_model_module": "@jupyter-widgets/base",
            "_model_module_version": "1.2.0",
            "_model_name": "LayoutModel",
            "_view_count": null,
            "_view_module": "@jupyter-widgets/base",
            "_view_module_version": "1.2.0",
            "_view_name": "LayoutView",
            "align_content": null,
            "align_items": null,
            "align_self": null,
            "border": null,
            "bottom": null,
            "display": null,
            "flex": null,
            "flex_flow": null,
            "grid_area": null,
            "grid_auto_columns": null,
            "grid_auto_flow": null,
            "grid_auto_rows": null,
            "grid_column": null,
            "grid_gap": null,
            "grid_row": null,
            "grid_template_areas": null,
            "grid_template_columns": null,
            "grid_template_rows": null,
            "height": null,
            "justify_content": null,
            "justify_items": null,
            "left": null,
            "margin": null,
            "max_height": null,
            "max_width": null,
            "min_height": null,
            "min_width": null,
            "object_fit": null,
            "object_position": null,
            "order": null,
            "overflow": null,
            "overflow_x": null,
            "overflow_y": null,
            "padding": null,
            "right": null,
            "top": null,
            "visibility": null,
            "width": null
          }
        },
        "3e048c376ede4523a11d32c7e3104a10": {
          "model_module": "@jupyter-widgets/controls",
          "model_name": "ProgressStyleModel",
          "model_module_version": "1.5.0",
          "state": {
            "_model_module": "@jupyter-widgets/controls",
            "_model_module_version": "1.5.0",
            "_model_name": "ProgressStyleModel",
            "_view_count": null,
            "_view_module": "@jupyter-widgets/base",
            "_view_module_version": "1.2.0",
            "_view_name": "StyleView",
            "bar_color": null,
            "description_width": ""
          }
        },
        "f19226101c9d464dbbe3674959ad7743": {
          "model_module": "@jupyter-widgets/base",
          "model_name": "LayoutModel",
          "model_module_version": "1.2.0",
          "state": {
            "_model_module": "@jupyter-widgets/base",
            "_model_module_version": "1.2.0",
            "_model_name": "LayoutModel",
            "_view_count": null,
            "_view_module": "@jupyter-widgets/base",
            "_view_module_version": "1.2.0",
            "_view_name": "LayoutView",
            "align_content": null,
            "align_items": null,
            "align_self": null,
            "border": null,
            "bottom": null,
            "display": null,
            "flex": null,
            "flex_flow": null,
            "grid_area": null,
            "grid_auto_columns": null,
            "grid_auto_flow": null,
            "grid_auto_rows": null,
            "grid_column": null,
            "grid_gap": null,
            "grid_row": null,
            "grid_template_areas": null,
            "grid_template_columns": null,
            "grid_template_rows": null,
            "height": null,
            "justify_content": null,
            "justify_items": null,
            "left": null,
            "margin": null,
            "max_height": null,
            "max_width": null,
            "min_height": null,
            "min_width": null,
            "object_fit": null,
            "object_position": null,
            "order": null,
            "overflow": null,
            "overflow_x": null,
            "overflow_y": null,
            "padding": null,
            "right": null,
            "top": null,
            "visibility": null,
            "width": null
          }
        },
        "1b41f9d77d614907a01c7155d98d88d4": {
          "model_module": "@jupyter-widgets/controls",
          "model_name": "DescriptionStyleModel",
          "model_module_version": "1.5.0",
          "state": {
            "_model_module": "@jupyter-widgets/controls",
            "_model_module_version": "1.5.0",
            "_model_name": "DescriptionStyleModel",
            "_view_count": null,
            "_view_module": "@jupyter-widgets/base",
            "_view_module_version": "1.2.0",
            "_view_name": "StyleView",
            "description_width": ""
          }
        }
      }
    }
  },
  "cells": [
    {
      "cell_type": "code",
      "execution_count": 1,
      "metadata": {
        "id": "63t-zlejwag8"
      },
      "outputs": [],
      "source": [
        "!pip3 install evaluate datasets tokenizers accelerate --q"
      ]
    },
    {
      "cell_type": "code",
      "source": [
        "!nvidia-smi"
      ],
      "metadata": {
        "colab": {
          "base_uri": "https://localhost:8080/"
        },
        "id": "2cj-YtZF-Oaj",
        "outputId": "2e0c16b3-35e8-468f-e446-b9db99db1f19"
      },
      "execution_count": 23,
      "outputs": [
        {
          "output_type": "stream",
          "name": "stdout",
          "text": [
            "Tue Dec 12 03:08:56 2023       \n",
            "+-----------------------------------------------------------------------------+\n",
            "| NVIDIA-SMI 525.105.17   Driver Version: 525.105.17   CUDA Version: 12.0     |\n",
            "|-------------------------------+----------------------+----------------------+\n",
            "| GPU  Name        Persistence-M| Bus-Id        Disp.A | Volatile Uncorr. ECC |\n",
            "| Fan  Temp  Perf  Pwr:Usage/Cap|         Memory-Usage | GPU-Util  Compute M. |\n",
            "|                               |                      |               MIG M. |\n",
            "|===============================+======================+======================|\n",
            "|   0  Tesla T4            Off  | 00000000:00:04.0 Off |                    0 |\n",
            "| N/A   72C    P0    31W /  70W |   4895MiB / 15360MiB |      0%      Default |\n",
            "|                               |                      |                  N/A |\n",
            "+-------------------------------+----------------------+----------------------+\n",
            "                                                                               \n",
            "+-----------------------------------------------------------------------------+\n",
            "| Processes:                                                                  |\n",
            "|  GPU   GI   CI        PID   Type   Process name                  GPU Memory |\n",
            "|        ID   ID                                                   Usage      |\n",
            "|=============================================================================|\n",
            "+-----------------------------------------------------------------------------+\n"
          ]
        }
      ]
    },
    {
      "cell_type": "code",
      "source": [
        "token = 'hf_AAAAAAAAAAAAAAAAAAAAAAAAA'"
      ],
      "metadata": {
        "id": "QYv_7aoB5r-g"
      },
      "execution_count": 2,
      "outputs": []
    },
    {
      "cell_type": "code",
      "source": [
        "!huggingface-cli login --token \"$token\""
      ],
      "metadata": {
        "colab": {
          "base_uri": "https://localhost:8080/"
        },
        "id": "o-06aXHOxb-g",
        "outputId": "03b2a2c1-4c7a-46c2-ad98-f277cb2535e4"
      },
      "execution_count": 3,
      "outputs": [
        {
          "output_type": "stream",
          "name": "stdout",
          "text": [
            "Token will not been saved to git credential helper. Pass `add_to_git_credential=True` if you want to set the git credential as well.\n",
            "Token is valid (permission: write).\n",
            "Your token has been saved to /root/.cache/huggingface/token\n",
            "Login successful\n"
          ]
        }
      ]
    },
    {
      "cell_type": "code",
      "source": [
        "from datasets import load_dataset\n",
        "\n",
        "dataset = load_dataset(\"Ransaka/sinhala-450M-sample\")"
      ],
      "metadata": {
        "id": "DFEyI5I7wwqr"
      },
      "execution_count": 4,
      "outputs": []
    },
    {
      "cell_type": "code",
      "source": [
        "dataset"
      ],
      "metadata": {
        "colab": {
          "base_uri": "https://localhost:8080/"
        },
        "id": "Lnwq_H0yxFjR",
        "outputId": "0aab2abb-5e62-49a7-8d11-1c2f2ef91219"
      },
      "execution_count": 5,
      "outputs": [
        {
          "output_type": "execute_result",
          "data": {
            "text/plain": [
              "DatasetDict({\n",
              "    train: Dataset({\n",
              "        features: ['text'],\n",
              "        num_rows: 10000\n",
              "    })\n",
              "})"
            ]
          },
          "metadata": {},
          "execution_count": 5
        }
      ]
    },
    {
      "cell_type": "code",
      "source": [
        "from transformers import AutoModel, AutoTokenizer"
      ],
      "metadata": {
        "id": "N8DwOFm9xnaN"
      },
      "execution_count": 6,
      "outputs": []
    },
    {
      "cell_type": "code",
      "source": [
        "sample_text = dataset[\"train\"]['text'][39]\n",
        "sample_text"
      ],
      "metadata": {
        "colab": {
          "base_uri": "https://localhost:8080/",
          "height": 35
        },
        "id": "iYUf1vnDy6xR",
        "outputId": "38336bcc-4fef-4503-d51f-9ea8a82fe83c"
      },
      "execution_count": 7,
      "outputs": [
        {
          "output_type": "execute_result",
          "data": {
            "text/plain": [
              "'මට මතකයි ඇල්. ඩී. මැන්දිස්ගෙ “පනංගල අයියා“ පොතේ තිබ්බා, අතුරු මිතුරු කියන හැටි අපි අහල තියෙන විදිහට වෙනස් විදිහකට. සමහර විට සිරි කියන්නෙ ඒකද දන්නෑ.'"
            ],
            "application/vnd.google.colaboratory.intrinsic+json": {
              "type": "string"
            }
          },
          "metadata": {},
          "execution_count": 7
        }
      ]
    },
    {
      "cell_type": "code",
      "source": [
        "tokenizer_base = AutoTokenizer.from_pretrained(\"bert-base-cased\")"
      ],
      "metadata": {
        "id": "iKv35tPuySSa"
      },
      "execution_count": 8,
      "outputs": []
    },
    {
      "cell_type": "code",
      "source": [
        "tokens = tokenizer_base(sample_text).input_ids\n",
        "[tokenizer_base.decode(id) for id in tokens]"
      ],
      "metadata": {
        "colab": {
          "base_uri": "https://localhost:8080/"
        },
        "id": "ZQJ5ECQTzDRL",
        "outputId": "d9914613-f01f-43f1-ff05-ac7dc8b287f2"
      },
      "execution_count": 9,
      "outputs": [
        {
          "output_type": "execute_result",
          "data": {
            "text/plain": [
              "['[CLS]',\n",
              " '[UNK]',\n",
              " '[UNK]',\n",
              " '[UNK]',\n",
              " '.',\n",
              " '[UNK]',\n",
              " '.',\n",
              " '[UNK]',\n",
              " '“',\n",
              " '[UNK]',\n",
              " '[UNK]',\n",
              " '“',\n",
              " '[UNK]',\n",
              " '[UNK]',\n",
              " ',',\n",
              " '[UNK]',\n",
              " '[UNK]',\n",
              " '[UNK]',\n",
              " '[UNK]',\n",
              " '[UNK]',\n",
              " '[UNK]',\n",
              " '[UNK]',\n",
              " '[UNK]',\n",
              " '[UNK]',\n",
              " '[UNK]',\n",
              " '.',\n",
              " '[UNK]',\n",
              " '[UNK]',\n",
              " '[UNK]',\n",
              " '[UNK]',\n",
              " '[UNK]',\n",
              " '[UNK]',\n",
              " '.',\n",
              " '[SEP]']"
            ]
          },
          "metadata": {},
          "execution_count": 9
        }
      ]
    },
    {
      "cell_type": "code",
      "source": [
        "training_corpus = (\n",
        "    dataset['train'][i : i + 1000][\"text\"]\n",
        "    for i in range(0, len(dataset), 1000)\n",
        ")"
      ],
      "metadata": {
        "id": "I7Bk5xcHyUdS"
      },
      "execution_count": 10,
      "outputs": []
    },
    {
      "cell_type": "code",
      "source": [
        "# train tokenizer with train_new_from_iterator method\n",
        "tokenizer = tokenizer_base.train_new_from_iterator(training_corpus, 2_000)"
      ],
      "metadata": {
        "id": "rGuPSBWCyjFi"
      },
      "execution_count": 11,
      "outputs": []
    },
    {
      "cell_type": "code",
      "source": [
        "tokens = tokenizer(sample_text).input_ids\n",
        "[tokenizer.decode(id) for id in tokens]"
      ],
      "metadata": {
        "colab": {
          "base_uri": "https://localhost:8080/"
        },
        "id": "CKkXoP6ZyrxI",
        "outputId": "85cb5b90-530b-4e80-dfd1-d538449d87ca"
      },
      "execution_count": 12,
      "outputs": [
        {
          "output_type": "execute_result",
          "data": {
            "text/plain": [
              "['[CLS]',\n",
              " 'මට',\n",
              " 'මතක',\n",
              " '##යි',\n",
              " 'ඇ',\n",
              " '##ල්',\n",
              " '.',\n",
              " 'ඩ',\n",
              " '##ී',\n",
              " '.',\n",
              " 'මැ',\n",
              " '##න්ද',\n",
              " '##ිස්',\n",
              " '##ගෙ',\n",
              " '“',\n",
              " 'පන',\n",
              " '##ංගල',\n",
              " 'අයි',\n",
              " '##යා',\n",
              " '“',\n",
              " 'පොත',\n",
              " '##ේ',\n",
              " 'තිබ්බ',\n",
              " '##ා',\n",
              " ',',\n",
              " 'අතුරු',\n",
              " 'මිතුර',\n",
              " '##ු',\n",
              " 'කියන',\n",
              " 'හැටි',\n",
              " 'අපි',\n",
              " 'අහ',\n",
              " '##ල',\n",
              " 'තියෙන',\n",
              " 'විදිහට',\n",
              " 'වෙනස්',\n",
              " 'විදිහ',\n",
              " '##කට',\n",
              " '.',\n",
              " 'සමහර',\n",
              " 'විට',\n",
              " 'සිර',\n",
              " '##ි',\n",
              " 'කියන්නෙ',\n",
              " 'ඒක',\n",
              " '##ද',\n",
              " 'දන්න',\n",
              " '##ෑ',\n",
              " '.',\n",
              " '[SEP]']"
            ]
          },
          "metadata": {},
          "execution_count": 12
        }
      ]
    },
    {
      "cell_type": "code",
      "source": [
        "tokenizer.save_pretrained(\"tokenizer/sinhala-wordpiece-sample\")"
      ],
      "metadata": {
        "colab": {
          "base_uri": "https://localhost:8080/"
        },
        "id": "6-EoVuxizkzm",
        "outputId": "906476ff-d210-40d7-b0dd-a03a229b4fde"
      },
      "execution_count": 13,
      "outputs": [
        {
          "output_type": "execute_result",
          "data": {
            "text/plain": [
              "('tokenizer/sinhala-wordpiece-sample/tokenizer_config.json',\n",
              " 'tokenizer/sinhala-wordpiece-sample/special_tokens_map.json',\n",
              " 'tokenizer/sinhala-wordpiece-sample/vocab.txt',\n",
              " 'tokenizer/sinhala-wordpiece-sample/added_tokens.json',\n",
              " 'tokenizer/sinhala-wordpiece-sample/tokenizer.json')"
            ]
          },
          "metadata": {},
          "execution_count": 13
        }
      ]
    },
    {
      "cell_type": "code",
      "source": [
        "from transformers import BertConfig, BertForMaskedLM\n",
        "\n",
        "config = BertConfig(\n",
        "    hidden_size = 384,\n",
        "    vocab_size= tokenizer.vocab_size,\n",
        "    num_hidden_layers = 6,\n",
        "    num_attention_heads = 6,\n",
        "    intermediate_size = 1024,\n",
        "    max_position_embeddings = 256\n",
        ")\n",
        "\n",
        "model = BertForMaskedLM(config=config)\n",
        "print(model.num_parameters()) #10457864"
      ],
      "metadata": {
        "colab": {
          "base_uri": "https://localhost:8080/"
        },
        "id": "QsFhAgAhzKYq",
        "outputId": "de0c74c2-92c7-4e62-9b91-08b3809b6b34"
      },
      "execution_count": 14,
      "outputs": [
        {
          "output_type": "stream",
          "name": "stdout",
          "text": [
            "9302864\n"
          ]
        }
      ]
    },
    {
      "cell_type": "code",
      "source": [
        "from transformers import DataCollatorForLanguageModeling\n",
        "\n",
        "data_collator = DataCollatorForLanguageModeling(\n",
        "    tokenizer=tokenizer, mlm=True, mlm_probability=0.15\n",
        ")"
      ],
      "metadata": {
        "id": "HgRZPfy4zgMH"
      },
      "execution_count": 15,
      "outputs": []
    },
    {
      "cell_type": "code",
      "source": [
        "import torch\n",
        "from torch.utils.data import Dataset\n",
        "from accelerate import Accelerator, DistributedType\n",
        "\n",
        "class LineByLineTextDataset(Dataset):\n",
        "    def __init__(self, tokenizer, raw_datasets, max_length: int):\n",
        "        self.padding = \"max_length\"\n",
        "        self.text_column_name = 'text'\n",
        "        self.max_length = max_length\n",
        "        self.accelerator = Accelerator(gradient_accumulation_steps=1)\n",
        "        self.tokenizer = tokenizer\n",
        "\n",
        "        with self.accelerator.main_process_first():\n",
        "            self.tokenized_datasets = raw_datasets.map(\n",
        "                self.tokenize_function,\n",
        "                batched=True,\n",
        "                num_proc=4,\n",
        "                remove_columns=[self.text_column_name],\n",
        "                desc=\"Running tokenizer on dataset line_by_line\",\n",
        "            )\n",
        "            self.tokenized_datasets.set_format('torch',columns=['input_ids'],dtype=torch.long)\n",
        "\n",
        "    def tokenize_function(self,examples):\n",
        "        examples[self.text_column_name] = [\n",
        "            line for line in examples[self.text_column_name] if len(line[0]) > 0 and not line[0].isspace()\n",
        "        ]\n",
        "        return self.tokenizer(\n",
        "            examples[self.text_column_name],\n",
        "            padding=self.padding,\n",
        "            truncation=True,\n",
        "            max_length=self.max_length,\n",
        "            return_special_tokens_mask=True,\n",
        "        )\n",
        "    def __len__(self):\n",
        "        return len(self.tokenized_datasets)\n",
        "\n",
        "    def __getitem__(self, i):\n",
        "        return self.tokenized_datasets[i]"
      ],
      "metadata": {
        "id": "XbsjqyRuztp8"
      },
      "execution_count": 16,
      "outputs": []
    },
    {
      "cell_type": "code",
      "source": [
        "tokenized_dataset_train = LineByLineTextDataset(\n",
        "    tokenizer= tokenizer,\n",
        "    raw_datasets = dataset,\n",
        "    max_length=256, # adjust this based on your requrements\n",
        ")"
      ],
      "metadata": {
        "colab": {
          "base_uri": "https://localhost:8080/",
          "height": 49,
          "referenced_widgets": [
            "55dae7413be94ac3bd997c21a317b9b4",
            "a0dcbbac15874073811d152ff8453ef0",
            "44747ed4512c49c59509461930657074",
            "e2bf6de8590945dd9efc45806af8a033",
            "1c68ace2e60a4674be726891466b0e5e",
            "17f0d5ce275a430bbeb5e9f568801b3a",
            "1c1724f8f2ea41818ca59c80e271871b",
            "4fa9d42deb224d0cb710f881a1afe0d6",
            "3e048c376ede4523a11d32c7e3104a10",
            "f19226101c9d464dbbe3674959ad7743",
            "1b41f9d77d614907a01c7155d98d88d4"
          ]
        },
        "id": "3JHNv3g4z0sV",
        "outputId": "7c462a72-6b18-431c-f5f0-3eb5a876017a"
      },
      "execution_count": 17,
      "outputs": [
        {
          "output_type": "display_data",
          "data": {
            "text/plain": [
              "Running tokenizer on dataset line_by_line (num_proc=4):   0%|          | 0/10000 [00:00<?, ? examples/s]"
            ],
            "application/vnd.jupyter.widget-view+json": {
              "version_major": 2,
              "version_minor": 0,
              "model_id": "55dae7413be94ac3bd997c21a317b9b4"
            }
          },
          "metadata": {}
        }
      ]
    },
    {
      "cell_type": "code",
      "source": [
        "from transformers import Trainer, TrainingArguments\n",
        "\n",
        "training_args = TrainingArguments(\n",
        "    output_dir=\"./model\",\n",
        "    overwrite_output_dir=True,\n",
        "    push_to_hub=True,\n",
        "    hub_model_id=\"Ransaka/sinhala-bert-yt\",\n",
        "    learning_rate=1e-5,\n",
        "    per_device_train_batch_size=64,\n",
        "    per_device_eval_batch_size=64,\n",
        "    max_steps=500,\n",
        "    eval_steps=100,\n",
        "    logging_steps=100,\n",
        "    weight_decay=0.01,\n",
        "    evaluation_strategy=\"steps\",\n",
        "    save_strategy=\"steps\",\n",
        "    report_to='none',\n",
        "    hub_private_repo = True,\n",
        "    load_best_model_at_end=True,\n",
        ")\n",
        "\n",
        "trainer = Trainer(\n",
        "    model=model,\n",
        "    args=training_args,\n",
        "    data_collator=data_collator,\n",
        "    train_dataset=tokenized_dataset_train['train'],\n",
        "    eval_dataset= tokenized_dataset_train['train'], # change to your actual evaluation dataset\n",
        "    )"
      ],
      "metadata": {
        "id": "GIjhaaeMz73W"
      },
      "execution_count": 18,
      "outputs": []
    },
    {
      "cell_type": "code",
      "source": [
        "trainer.train()"
      ],
      "metadata": {
        "colab": {
          "base_uri": "https://localhost:8080/",
          "height": 324
        },
        "id": "sg9bOHPv0Vw5",
        "outputId": "53da869e-5843-427e-feea-9a66ef715c87"
      },
      "execution_count": 19,
      "outputs": [
        {
          "output_type": "stream",
          "name": "stderr",
          "text": [
            "You're using a BertTokenizerFast tokenizer. Please note that with a fast tokenizer, using the `__call__` method is faster than using a method to encode the text followed by a call to the `pad` method to get a padded encoding.\n"
          ]
        },
        {
          "output_type": "display_data",
          "data": {
            "text/plain": [
              "<IPython.core.display.HTML object>"
            ],
            "text/html": [
              "\n",
              "    <div>\n",
              "      \n",
              "      <progress value='500' max='500' style='width:300px; height:20px; vertical-align: middle;'></progress>\n",
              "      [500/500 05:10, Epoch 3/4]\n",
              "    </div>\n",
              "    <table border=\"1\" class=\"dataframe\">\n",
              "  <thead>\n",
              " <tr style=\"text-align: left;\">\n",
              "      <th>Step</th>\n",
              "      <th>Training Loss</th>\n",
              "      <th>Validation Loss</th>\n",
              "    </tr>\n",
              "  </thead>\n",
              "  <tbody>\n",
              "    <tr>\n",
              "      <td>100</td>\n",
              "      <td>7.417200</td>\n",
              "      <td>7.251174</td>\n",
              "    </tr>\n",
              "    <tr>\n",
              "      <td>200</td>\n",
              "      <td>7.184500</td>\n",
              "      <td>7.121541</td>\n",
              "    </tr>\n",
              "    <tr>\n",
              "      <td>300</td>\n",
              "      <td>7.080100</td>\n",
              "      <td>7.046470</td>\n",
              "    </tr>\n",
              "    <tr>\n",
              "      <td>400</td>\n",
              "      <td>7.040800</td>\n",
              "      <td>7.016527</td>\n",
              "    </tr>\n",
              "    <tr>\n",
              "      <td>500</td>\n",
              "      <td>7.020600</td>\n",
              "      <td>7.002804</td>\n",
              "    </tr>\n",
              "  </tbody>\n",
              "</table><p>"
            ]
          },
          "metadata": {}
        },
        {
          "output_type": "stream",
          "name": "stderr",
          "text": [
            "There were missing keys in the checkpoint model loaded: ['cls.predictions.decoder.weight', 'cls.predictions.decoder.bias'].\n"
          ]
        },
        {
          "output_type": "execute_result",
          "data": {
            "text/plain": [
              "TrainOutput(global_step=500, training_loss=7.14864013671875, metrics={'train_runtime': 312.1458, 'train_samples_per_second': 102.516, 'train_steps_per_second': 1.602, 'total_flos': 412770186166272.0, 'train_loss': 7.14864013671875, 'epoch': 3.18})"
            ]
          },
          "metadata": {},
          "execution_count": 19
        }
      ]
    },
    {
      "cell_type": "code",
      "source": [
        "results = trainer.evaluate()"
      ],
      "metadata": {
        "colab": {
          "base_uri": "https://localhost:8080/",
          "height": 37
        },
        "id": "AOV3jGka3xkI",
        "outputId": "68f51c5a-3ffa-40c4-981f-35fd5e06d0a0"
      },
      "execution_count": 20,
      "outputs": [
        {
          "output_type": "display_data",
          "data": {
            "text/plain": [
              "<IPython.core.display.HTML object>"
            ],
            "text/html": [
              "\n",
              "    <div>\n",
              "      \n",
              "      <progress value='157' max='157' style='width:300px; height:20px; vertical-align: middle;'></progress>\n",
              "      [157/157 00:22]\n",
              "    </div>\n",
              "    "
            ]
          },
          "metadata": {}
        }
      ]
    },
    {
      "cell_type": "code",
      "source": [
        "import math\n",
        "\n",
        "print(f\">>> Perplexity: {math.exp(results['eval_loss']):.2f}\")"
      ],
      "metadata": {
        "colab": {
          "base_uri": "https://localhost:8080/"
        },
        "id": "l6ovA1Dm_r9v",
        "outputId": "abcbbdc2-0a8e-4d80-98ad-4898eef7f4df"
      },
      "execution_count": 22,
      "outputs": [
        {
          "output_type": "stream",
          "name": "stdout",
          "text": [
            ">>> Perplexity: 1102.21\n"
          ]
        }
      ]
    }
  ]
}